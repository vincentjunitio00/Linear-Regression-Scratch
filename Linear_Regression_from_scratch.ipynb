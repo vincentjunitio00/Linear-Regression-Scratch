{
  "nbformat": 4,
  "nbformat_minor": 0,
  "metadata": {
    "colab": {
      "name": "Linear_Regression_from_scratch.ipynb",
      "provenance": [],
      "collapsed_sections": [],
      "include_colab_link": true
    },
    "kernelspec": {
      "name": "python3",
      "display_name": "Python 3"
    },
    "language_info": {
      "name": "python"
    }
  },
  "cells": [
    {
      "cell_type": "markdown",
      "metadata": {
        "id": "view-in-github",
        "colab_type": "text"
      },
      "source": [
        "<a href=\"https://colab.research.google.com/github/vincentjunitio00/Linear-Regression-Scratch/blob/main/Linear_Regression_from_scratch.ipynb\" target=\"_parent\"><img src=\"https://colab.research.google.com/assets/colab-badge.svg\" alt=\"Open In Colab\"/></a>"
      ]
    },
    {
      "cell_type": "markdown",
      "metadata": {
        "id": "zu9-llw56_av"
      },
      "source": [
        "# Import libraries #"
      ]
    },
    {
      "cell_type": "code",
      "metadata": {
        "id": "kLxrnZxtEFxR"
      },
      "source": [
        "import numpy as np\n",
        "import matplotlib.pyplot as plt\n",
        "from sklearn.datasets import make_regression"
      ],
      "execution_count": 1,
      "outputs": []
    },
    {
      "cell_type": "markdown",
      "metadata": {
        "id": "AtM1WuCJ7Kij"
      },
      "source": [
        "# Create dataset"
      ]
    },
    {
      "cell_type": "code",
      "metadata": {
        "id": "Aaf7wUjeEMCs"
      },
      "source": [
        "np.random.seed(42)\n",
        "\n",
        "X, y = make_regression(n_samples=100, n_features=1)"
      ],
      "execution_count": 2,
      "outputs": []
    },
    {
      "cell_type": "markdown",
      "metadata": {
        "id": "SYP1B7aDAKFX"
      },
      "source": [
        "# Define Linear Regression and Conduct training"
      ]
    },
    {
      "cell_type": "code",
      "metadata": {
        "colab": {
          "base_uri": "https://localhost:8080/"
        },
        "id": "hHOzaKG51Yaw",
        "outputId": "ef32cd3a-fa70-40c2-ddd9-a18c152d8348"
      },
      "source": [
        "class LinearRegression:\n",
        "  def __init__(self, learning_rate=0.001, max_iteration=100):\n",
        "      \"\"\"Initialize constructor.\n",
        "\n",
        "      Keyword arguments:\n",
        "      learning_rate -- the learning rate of the model (default 0.001)\n",
        "      max_iteration -- the maximum looping iteration to run (default 100)\n",
        "      \"\"\"\n",
        "      self.learning_rate = learning_rate\n",
        "      self.max_iteration = max_iteration\n",
        "  \n",
        "  def initialize_parameters(self, X):\n",
        "      \"\"\"Initialize parameters.\n",
        "\n",
        "      Keyword arguments:\n",
        "      X -- the training data of size (n_samples, n_features)\n",
        "\n",
        "      Return:\n",
        "      W -- the weight of the model of size (n_features, 1)\n",
        "      b -- the bias of the model\n",
        "      \"\"\"\n",
        "      self.W = np.zeros((X.shape[1], 1))\n",
        "      self.b = 1\n",
        "      self.cost = []           # To save the cost value for each iteration\n",
        "      return self.W, self.b\n",
        "  \n",
        "  def compute_hypothesis(self, X):\n",
        "      \"\"\"Compute hypothesis function.\n",
        "\n",
        "      Keyword arguments:\n",
        "      X -- the training data of size (n_samples, n_features)\n",
        "\n",
        "      Return:\n",
        "      h -- the dot product of weight and X added with bias of size (1, n_samples)\n",
        "      \"\"\"\n",
        "      h = np.dot(self.W.T, X.T) + self.b\n",
        "      return h\n",
        "  \n",
        "  def compute_cost(self, h, y):\n",
        "      \"\"\"Compute cost function.\n",
        "\n",
        "      Keyword arguments:\n",
        "      h -- the dot product of weight and X added with bias of size (1, n_samples)\n",
        "      y -- the training label of size (n_samples, )\n",
        "\n",
        "      Return:\n",
        "      cost -- the cost function\n",
        "      \"\"\"\n",
        "      cost = (1 / 2 * len(y)) * np.sum((h - y.reshape(1, -1))**2)\n",
        "      return cost\n",
        "\n",
        "  def gradient_descent(self, h, X, y):\n",
        "      \"\"\"Compute the gradient descent.\n",
        "\n",
        "      Keyword arguments:\n",
        "      h -- the dot product of weight and X added with bias of size (1, n_samples)\n",
        "      X -- the training data of size (n_samples, n_features)\n",
        "      y -- the training label of size (n_samples, )\n",
        "\n",
        "      Return:\n",
        "      dW -- gradient of the loss respect to W \n",
        "      db -- gradient of the loss respect to b\n",
        "      \"\"\"\n",
        "      dW = (1 / len(y)) * np.sum(np.dot(X.T, (h - y.reshape(1, -1)).T))\n",
        "      db = (1 / len(y)) * np.sum(h - y.reshape(1, -1))\n",
        "      return dW, db\n",
        "  \n",
        "  def update_weights(self, dW, db):\n",
        "      \"\"\"Update the weights.\n",
        "\n",
        "      Keyword arguments:\n",
        "      dW -- gradient of the loss respect to W \n",
        "      db -- gradient of the loss respect to b\n",
        "      \n",
        "      Return:\n",
        "      W -- the weight of the model of size (n_features, 1)\n",
        "      b -- the bias of the model\n",
        "      \"\"\"\n",
        "      self.W = self.W - self.learning_rate * dW\n",
        "      self.b = self.b - self.learning_rate * db\n",
        "      return self.W, self.b\n",
        "\n",
        "  def fit(self, X, y):\n",
        "      \"\"\"Fit the training data and label to the model.\n",
        "      \n",
        "      Keyword arguments:\n",
        "      X -- the training data of size (n_samples, n_features)\n",
        "      y -- the training label of size (n_samples, )\n",
        "\n",
        "      Return:\n",
        "      W -- the weight of the model (after training) of size (n_features, 1)\n",
        "      b -- the bias of the model (after training)\n",
        "      \"\"\"\n",
        "      self.initialize_parameters(X)\n",
        "\n",
        "      for iter in range(self.max_iteration):\n",
        "        h = self.compute_hypothesis(X)\n",
        "        self.cost.append(self.compute_cost(h, y))\n",
        "        dW, db = self.gradient_descent(h, X, y)\n",
        "        self.W, self.b = self.update_weights(dW, db)\n",
        "      return self.W, self.b\n",
        "  \n",
        "  def predict(self, X):\n",
        "      \"\"\"Predict the data with the trained model.\n",
        "\n",
        "      Keyword arguments:\n",
        "      X -- the training data of size (n_samples, n_features)\n",
        "\n",
        "      Return:\n",
        "      predictions -- the predicted labels (list)\n",
        "      \"\"\"\n",
        "      predictions = []\n",
        "      for case in X:\n",
        "        prediction = np.dot(self.W, case) + self.b\n",
        "        predictions.extend(prediction)\n",
        "      return predictions\n",
        "\n",
        "# Instantiate LinearRegression\n",
        "linreg = LinearRegression(0.03, 200)\n",
        "\n",
        "# Fit the data to the model\n",
        "linreg.fit(X, y)"
      ],
      "execution_count": 3,
      "outputs": [
        {
          "output_type": "execute_result",
          "data": {
            "text/plain": [
              "(array([[41.42837803]]), -0.1122595883106603)"
            ]
          },
          "metadata": {
            "tags": []
          },
          "execution_count": 3
        }
      ]
    },
    {
      "cell_type": "markdown",
      "metadata": {
        "id": "hWLmabuRAoR5"
      },
      "source": [
        "# Plot the cost over iterations"
      ]
    },
    {
      "cell_type": "code",
      "metadata": {
        "colab": {
          "base_uri": "https://localhost:8080/",
          "height": 295
        },
        "id": "A6c6syOctNhm",
        "outputId": "5fbbb618-c524-4192-e1ce-2de76783b5af"
      },
      "source": [
        "plt.title('The cost function plot')\n",
        "plt.plot(linreg.cost)\n",
        "plt.xlabel('Iterations')\n",
        "plt.ylabel('The cost value')\n",
        "plt.show()"
      ],
      "execution_count": 4,
      "outputs": [
        {
          "output_type": "display_data",
          "data": {
            "image/png": "[encoded data removed]",
            "text/plain": [
              "<Figure size 432x288 with 1 Axes>"
            ]
          },
          "metadata": {
            "tags": [],
            "needs_background": "light"
          }
        }
      ]
    },
    {
      "cell_type": "markdown",
      "metadata": {
        "id": "cqBSTY40AGrS"
      },
      "source": [
        "# Predict data"
      ]
    },
    {
      "cell_type": "code",
      "metadata": {
        "colab": {
          "base_uri": "https://localhost:8080/"
        },
        "id": "e-ZjpMsE5-3r",
        "outputId": "310c2af0-1c76-488e-b594-e77ddcb70e40"
      },
      "source": [
        "linreg.predict([[4], [5]])"
      ],
      "execution_count": 5,
      "outputs": [
        {
          "output_type": "execute_result",
          "data": {
            "text/plain": [
              "[165.60125252664162, 207.02963055537967]"
            ]
          },
          "metadata": {
            "tags": []
          },
          "execution_count": 5
        }
      ]
    },
    {
      "cell_type": "markdown",
      "metadata": {
        "id": "ZXm3XeBeAY8r"
      },
      "source": [
        "# Plot the hypothesis function"
      ]
    },
    {
      "cell_type": "code",
      "metadata": {
        "colab": {
          "base_uri": "https://localhost:8080/",
          "height": 265
        },
        "id": "GFE4WPPdb7yk",
        "outputId": "0e78cf6e-6f21-47ed-d454-dcae06f4ed4c"
      },
      "source": [
        "# Since the hypothesis function will be\n",
        "# hypothesis_function = W * x + b\n",
        "# find two values (minimum and maximum of X) to get the points\n",
        "# connect the points\n",
        "\n",
        "minimum = min(X)\n",
        "maximum = max(X)\n",
        "\n",
        "plt.plot(X[:, 0], y, label = \"X\")\n",
        "plt.plot([minimum, maximum], [linreg.predict([minimum]), \\\n",
        "                              linreg.predict([maximum])], \\\n",
        "                              label = \"Hypothesis function\")\n",
        "plt.legend()\n",
        "plt.show()"
      ],
      "execution_count": 6,
      "outputs": [
        {
          "output_type": "display_data",
          "data": {
            "image/png": "[encoded data removed]",
            "text/plain": [
              "<Figure size 432x288 with 1 Axes>"
            ]
          },
          "metadata": {
            "tags": [],
            "needs_background": "light"
          }
        }
      ]
    }
  ]
}